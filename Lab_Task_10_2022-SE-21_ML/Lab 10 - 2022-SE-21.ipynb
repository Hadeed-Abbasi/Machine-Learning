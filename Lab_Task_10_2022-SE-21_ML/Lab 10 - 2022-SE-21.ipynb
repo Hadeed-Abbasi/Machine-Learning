{
 "cells": [
  {
   "cell_type": "code",
   "execution_count": 2,
   "id": "70abeb0e-a1eb-4098-a3a2-b1cf2500ccc6",
   "metadata": {},
   "outputs": [],
   "source": [
    "import pandas as pd\n",
    "import numpy as np\n",
    "import matplotlib.pyplot as plt\n",
    "import seaborn as sns\n",
    "from sklearn.model_selection import train_test_split\n",
    "from sklearn.preprocessing import StandardScaler, LabelEncoder\n",
    "from sklearn.naive_bayes import GaussianNB, MultinomialNB, BernoulliNB\n",
    "from sklearn.metrics import accuracy_score, confusion_matrix, classification_report"
   ]
  },
  {
   "cell_type": "code",
   "execution_count": 4,
   "id": "ecb4a4b0-1f1a-456f-9282-dd98eab77e28",
   "metadata": {},
   "outputs": [],
   "source": [
    "# Load the dataset\n",
    "file_path = \"advertising.csv\"\n",
    "df = pd.read_csv(file_path)"
   ]
  },
  {
   "cell_type": "code",
   "execution_count": 6,
   "id": "66b6a041-d692-4374-92c4-3f1d07efc10a",
   "metadata": {},
   "outputs": [
    {
     "name": "stdout",
     "output_type": "stream",
     "text": [
      "Dataset Information:\n",
      "<class 'pandas.core.frame.DataFrame'>\n",
      "RangeIndex: 1009 entries, 0 to 1008\n",
      "Data columns (total 8 columns):\n",
      " #   Column                    Non-Null Count  Dtype  \n",
      "---  ------                    --------------  -----  \n",
      " 0   Daily Time Spent on Site  1005 non-null   float64\n",
      " 1   Age                       998 non-null    float64\n",
      " 2   Area Income               998 non-null    float64\n",
      " 3   Daily Internet Usage      1005 non-null   float64\n",
      " 4   City                      998 non-null    object \n",
      " 5   Gender                    1009 non-null   object \n",
      " 6   Country                   996 non-null    object \n",
      " 7   Clicked on Ad             1009 non-null   int64  \n",
      "dtypes: float64(4), int64(1), object(3)\n",
      "memory usage: 63.2+ KB\n"
     ]
    }
   ],
   "source": [
    "# Display basic dataset information\n",
    "print(\"Dataset Information:\")\n",
    "df.info()"
   ]
  },
  {
   "cell_type": "code",
   "execution_count": 12,
   "id": "4e5d380e-ff98-46c3-8cda-a92c68f25140",
   "metadata": {},
   "outputs": [
    {
     "data": {
      "text/html": [
       "<div>\n",
       "<style scoped>\n",
       "    .dataframe tbody tr th:only-of-type {\n",
       "        vertical-align: middle;\n",
       "    }\n",
       "\n",
       "    .dataframe tbody tr th {\n",
       "        vertical-align: top;\n",
       "    }\n",
       "\n",
       "    .dataframe thead th {\n",
       "        text-align: right;\n",
       "    }\n",
       "</style>\n",
       "<table border=\"1\" class=\"dataframe\">\n",
       "  <thead>\n",
       "    <tr style=\"text-align: right;\">\n",
       "      <th></th>\n",
       "      <th>Daily Time Spent on Site</th>\n",
       "      <th>Age</th>\n",
       "      <th>Area Income</th>\n",
       "      <th>Daily Internet Usage</th>\n",
       "      <th>City</th>\n",
       "      <th>Gender</th>\n",
       "      <th>Country</th>\n",
       "      <th>Clicked on Ad</th>\n",
       "    </tr>\n",
       "  </thead>\n",
       "  <tbody>\n",
       "    <tr>\n",
       "      <th>0</th>\n",
       "      <td>68.95</td>\n",
       "      <td>35.0</td>\n",
       "      <td>61833.90</td>\n",
       "      <td>256.09</td>\n",
       "      <td>Wrightburgh</td>\n",
       "      <td>Female</td>\n",
       "      <td>Tunisia</td>\n",
       "      <td>0</td>\n",
       "    </tr>\n",
       "    <tr>\n",
       "      <th>1</th>\n",
       "      <td>NaN</td>\n",
       "      <td>31.0</td>\n",
       "      <td>68441.85</td>\n",
       "      <td>193.77</td>\n",
       "      <td>West Jodi</td>\n",
       "      <td>Male</td>\n",
       "      <td>Nauru</td>\n",
       "      <td>0</td>\n",
       "    </tr>\n",
       "    <tr>\n",
       "      <th>2</th>\n",
       "      <td>69.47</td>\n",
       "      <td>26.0</td>\n",
       "      <td>59785.94</td>\n",
       "      <td>236.50</td>\n",
       "      <td>Davidton</td>\n",
       "      <td>Female</td>\n",
       "      <td>San Marino</td>\n",
       "      <td>0</td>\n",
       "    </tr>\n",
       "    <tr>\n",
       "      <th>3</th>\n",
       "      <td>74.15</td>\n",
       "      <td>29.0</td>\n",
       "      <td>54806.18</td>\n",
       "      <td>245.89</td>\n",
       "      <td>West Terrifurt</td>\n",
       "      <td>Male</td>\n",
       "      <td>Italy</td>\n",
       "      <td>0</td>\n",
       "    </tr>\n",
       "    <tr>\n",
       "      <th>4</th>\n",
       "      <td>68.37</td>\n",
       "      <td>35.0</td>\n",
       "      <td>73889.99</td>\n",
       "      <td>225.58</td>\n",
       "      <td>South Manuel</td>\n",
       "      <td>Female</td>\n",
       "      <td>Iceland</td>\n",
       "      <td>0</td>\n",
       "    </tr>\n",
       "  </tbody>\n",
       "</table>\n",
       "</div>"
      ],
      "text/plain": [
       "   Daily Time Spent on Site   Age  Area Income  Daily Internet Usage  \\\n",
       "0                     68.95  35.0     61833.90                256.09   \n",
       "1                       NaN  31.0     68441.85                193.77   \n",
       "2                     69.47  26.0     59785.94                236.50   \n",
       "3                     74.15  29.0     54806.18                245.89   \n",
       "4                     68.37  35.0     73889.99                225.58   \n",
       "\n",
       "             City  Gender     Country  Clicked on Ad  \n",
       "0     Wrightburgh  Female     Tunisia              0  \n",
       "1       West Jodi    Male       Nauru              0  \n",
       "2        Davidton  Female  San Marino              0  \n",
       "3  West Terrifurt    Male       Italy              0  \n",
       "4    South Manuel  Female     Iceland              0  "
      ]
     },
     "execution_count": 12,
     "metadata": {},
     "output_type": "execute_result"
    }
   ],
   "source": [
    "# Display first few rows\n",
    "df.head()"
   ]
  },
  {
   "cell_type": "code",
   "execution_count": 14,
   "id": "79ffe1cd-2d7a-4f50-8f53-8f205aa09478",
   "metadata": {},
   "outputs": [],
   "source": [
    "# Handling categorical variables if needed\n",
    "for col in df.select_dtypes(include=['object']).columns:\n",
    "    df[col] = LabelEncoder().fit_transform(df[col])"
   ]
  },
  {
   "cell_type": "code",
   "execution_count": 16,
   "id": "abbd71b5-0f79-4d6b-a9aa-f5c72e72b3c9",
   "metadata": {},
   "outputs": [],
   "source": [
    "# Handling missing values\n",
    "df = df.dropna()"
   ]
  },
  {
   "cell_type": "code",
   "execution_count": 18,
   "id": "80bde0b2-265e-4868-9c6a-3c88a3c92144",
   "metadata": {},
   "outputs": [],
   "source": [
    "# Define features and target variable\n",
    "X = df.drop(columns=[df.columns[-1]])  # Assuming last column is the target\n",
    "y = df[df.columns[-1]]"
   ]
  },
  {
   "cell_type": "code",
   "execution_count": 20,
   "id": "91041814-51fd-4a1d-a691-484b0f7892eb",
   "metadata": {},
   "outputs": [],
   "source": [
    "# Split dataset into training and testing sets\n",
    "X_train, X_test, y_train, y_test = train_test_split(X, y, test_size=0.2, random_state=42)"
   ]
  },
  {
   "cell_type": "code",
   "execution_count": 22,
   "id": "b68db369-bb04-4042-af59-24429945dfad",
   "metadata": {},
   "outputs": [],
   "source": [
    "# Standardizing the numerical features for Gaussian Naive Bayes\n",
    "scaler = StandardScaler()\n",
    "X_train_scaled = scaler.fit_transform(X_train)\n",
    "X_test_scaled = scaler.transform(X_test)"
   ]
  },
  {
   "cell_type": "code",
   "execution_count": 24,
   "id": "cff2dd63-1d80-4bf5-a2a3-a41297d4aba7",
   "metadata": {},
   "outputs": [],
   "source": [
    "# Initialize models\n",
    "gaussian_nb = GaussianNB()\n",
    "multinomial_nb = MultinomialNB()\n",
    "bernoulli_nb = BernoulliNB()"
   ]
  },
  {
   "cell_type": "code",
   "execution_count": 26,
   "id": "c5006de9-8b79-462e-8f61-d261b642899b",
   "metadata": {},
   "outputs": [
    {
     "name": "stdout",
     "output_type": "stream",
     "text": [
      "\n",
      "Gaussian Naive Bayes Performance:\n",
      "Accuracy: 0.9744897959183674\n",
      "Confusion Matrix:\n",
      " [[99  1]\n",
      " [ 4 92]]\n",
      "Classification Report:\n",
      "               precision    recall  f1-score   support\n",
      "\n",
      "           0       0.96      0.99      0.98       100\n",
      "           1       0.99      0.96      0.97        96\n",
      "\n",
      "    accuracy                           0.97       196\n",
      "   macro avg       0.98      0.97      0.97       196\n",
      "weighted avg       0.97      0.97      0.97       196\n",
      "\n"
     ]
    }
   ],
   "source": [
    "# Train and evaluate Gaussian Naive Bayes\n",
    "gaussian_nb.fit(X_train_scaled, y_train)\n",
    "y_pred_gaussian = gaussian_nb.predict(X_test_scaled)\n",
    "print(\"\\nGaussian Naive Bayes Performance:\")\n",
    "print(\"Accuracy:\", accuracy_score(y_test, y_pred_gaussian))\n",
    "print(\"Confusion Matrix:\\n\", confusion_matrix(y_test, y_pred_gaussian))\n",
    "print(\"Classification Report:\\n\", classification_report(y_test, y_pred_gaussian))"
   ]
  },
  {
   "cell_type": "code",
   "execution_count": 28,
   "id": "7a70ed4e-b1c7-470a-b6fe-cad38e1ef494",
   "metadata": {},
   "outputs": [
    {
     "name": "stdout",
     "output_type": "stream",
     "text": [
      "\n",
      "Multinomial Naive Bayes Performance:\n",
      "Accuracy: 0.5918367346938775\n",
      "Confusion Matrix:\n",
      " [[60 40]\n",
      " [40 56]]\n",
      "Classification Report:\n",
      "               precision    recall  f1-score   support\n",
      "\n",
      "           0       0.60      0.60      0.60       100\n",
      "           1       0.58      0.58      0.58        96\n",
      "\n",
      "    accuracy                           0.59       196\n",
      "   macro avg       0.59      0.59      0.59       196\n",
      "weighted avg       0.59      0.59      0.59       196\n",
      "\n"
     ]
    }
   ],
   "source": [
    "# Train and evaluate Multinomial Naive Bayes\n",
    "multinomial_nb.fit(X_train, y_train)\n",
    "y_pred_multinomial = multinomial_nb.predict(X_test)\n",
    "print(\"\\nMultinomial Naive Bayes Performance:\")\n",
    "print(\"Accuracy:\", accuracy_score(y_test, y_pred_multinomial))\n",
    "print(\"Confusion Matrix:\\n\", confusion_matrix(y_test, y_pred_multinomial))\n",
    "print(\"Classification Report:\\n\", classification_report(y_test, y_pred_multinomial))"
   ]
  },
  {
   "cell_type": "code",
   "execution_count": 30,
   "id": "202177d7-12b5-41dc-8a30-bb839527782b",
   "metadata": {},
   "outputs": [
    {
     "name": "stdout",
     "output_type": "stream",
     "text": [
      "\n",
      "Bernoulli Naive Bayes Performance:\n",
      "Accuracy: 0.4642857142857143\n",
      "Confusion Matrix:\n",
      " [[45 55]\n",
      " [50 46]]\n",
      "Classification Report:\n",
      "               precision    recall  f1-score   support\n",
      "\n",
      "           0       0.47      0.45      0.46       100\n",
      "           1       0.46      0.48      0.47        96\n",
      "\n",
      "    accuracy                           0.46       196\n",
      "   macro avg       0.46      0.46      0.46       196\n",
      "weighted avg       0.46      0.46      0.46       196\n",
      "\n"
     ]
    }
   ],
   "source": [
    "# Train and evaluate Bernoulli Naive Bayes\n",
    "bernoulli_nb.fit(X_train, y_train)\n",
    "y_pred_bernoulli = bernoulli_nb.predict(X_test)\n",
    "print(\"\\nBernoulli Naive Bayes Performance:\")\n",
    "print(\"Accuracy:\", accuracy_score(y_test, y_pred_bernoulli))\n",
    "print(\"Confusion Matrix:\\n\", confusion_matrix(y_test, y_pred_bernoulli))\n",
    "print(\"Classification Report:\\n\", classification_report(y_test, y_pred_bernoulli))"
   ]
  },
  {
   "cell_type": "code",
   "execution_count": 32,
   "id": "45293b8f-5c10-42ed-b0db-d9603ddfd099",
   "metadata": {},
   "outputs": [],
   "source": [
    "# Visualizing the confusion matrix for all models\n",
    "models = [\"Gaussian\", \"Multinomial\", \"Bernoulli\"]\n",
    "predictions = [y_pred_gaussian, y_pred_multinomial, y_pred_bernoulli]"
   ]
  },
  {
   "cell_type": "code",
   "execution_count": 34,
   "id": "8c0d2f90-5990-4a73-9ff2-39b1e1a3c204",
   "metadata": {},
   "outputs": [
    {
     "data": {
      "image/png": "[encoded data removed]",
      "text/plain": [
       "<Figure size 1200x400 with 6 Axes>"
      ]
     },
     "metadata": {},
     "output_type": "display_data"
    }
   ],
   "source": [
    "plt.figure(figsize=(12, 4))\n",
    "for i, (name, pred) in enumerate(zip(models, predictions)):\n",
    "    plt.subplot(1, 3, i + 1)\n",
    "    sns.heatmap(confusion_matrix(y_test, pred), annot=True, fmt=\"d\", cmap=\"Blues\")\n",
    "    plt.title(f\"{name} Naive Bayes\")\n",
    "    plt.xlabel(\"Predicted\")\n",
    "    plt.ylabel(\"Actual\")\n",
    "plt.tight_layout()\n",
    "plt.show()"
   ]
  },
  {
   "cell_type": "code",
   "execution_count": null,
   "id": "d12e6c65-d25f-43a4-b7af-a620ef98d767",
   "metadata": {},
   "outputs": [],
   "source": []
  }
 ],
 "metadata": {
  "kernelspec": {
   "display_name": "Python 3 (ipykernel)",
   "language": "python",
   "name": "python3"
  },
  "language_info": {
   "codemirror_mode": {
    "name": "ipython",
    "version": 3
   },
   "file_extension": ".py",
   "mimetype": "text/x-python",
   "name": "python",
   "nbconvert_exporter": "python",
   "pygments_lexer": "ipython3",
   "version": "3.12.7"
  }
 },
 "nbformat": 4,
 "nbformat_minor": 5
}
