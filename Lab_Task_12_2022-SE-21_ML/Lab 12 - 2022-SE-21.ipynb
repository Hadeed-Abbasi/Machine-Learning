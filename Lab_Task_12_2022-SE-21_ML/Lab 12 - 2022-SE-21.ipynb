{
 "cells": [
  {
   "cell_type": "code",
   "execution_count": 14,
   "id": "05f47bf7-3978-4b27-b552-5d25fd62da4a",
   "metadata": {},
   "outputs": [],
   "source": [
    "import pandas as pd\n",
    "import numpy as np\n",
    "import matplotlib.pyplot as plt\n",
    "import seaborn as sns\n",
    "from sklearn.cluster import KMeans, DBSCAN\n",
    "from sklearn.preprocessing import StandardScaler\n",
    "from sklearn.decomposition import PCA"
   ]
  },
  {
   "cell_type": "code",
   "execution_count": 16,
   "id": "bf9e8157-e122-46cc-8b85-55249114808c",
   "metadata": {},
   "outputs": [],
   "source": [
    "# Load the dataset\n",
    "file_path = \"Online Retail.xlsx\"\n",
    "df = pd.read_excel(file_path)"
   ]
  },
  {
   "cell_type": "code",
   "execution_count": 17,
   "id": "4cdbdb69-23f0-47e6-9f12-6e382144811d",
   "metadata": {},
   "outputs": [],
   "source": [
    "# Data Cleaning: Removing missing values\n",
    "df = df.dropna()"
   ]
  },
  {
   "cell_type": "code",
   "execution_count": 18,
   "id": "ed70b14d-5214-4950-9474-88b35ef3ec75",
   "metadata": {},
   "outputs": [],
   "source": [
    "# Feature Selection: Using 'Quantity' and 'UnitPrice' for clustering\n",
    "data = df[['Quantity', 'UnitPrice']]\n",
    "scaler = StandardScaler()\n",
    "data_scaled = scaler.fit_transform(data)"
   ]
  },
  {
   "cell_type": "code",
   "execution_count": 19,
   "id": "a34c84ca-2e42-4e5b-93f6-27dce4b7ff95",
   "metadata": {},
   "outputs": [],
   "source": [
    "# Apply K-Means Clustering\n",
    "kmeans = KMeans(n_clusters=3, random_state=42)\n",
    "kmeans_labels = kmeans.fit_predict(data_scaled)"
   ]
  },
  {
   "cell_type": "code",
   "execution_count": null,
   "id": "a3640b11-ab1a-460e-8adc-47cf942bbc13",
   "metadata": {},
   "outputs": [],
   "source": [
    "# Apply DBSCAN Clustering\n",
    "dbscan = DBSCAN(eps=0.5, min_samples=5)\n",
    "dbscan_labels = dbscan.fit_predict(data_scaled)"
   ]
  },
  {
   "cell_type": "code",
   "execution_count": null,
   "id": "567a27e6-6003-4aac-8dcb-efd2a1cb09c8",
   "metadata": {},
   "outputs": [],
   "source": [
    "# Count unique clusters in both methods\n",
    "unique_kmeans_clusters = len(set(kmeans_labels))\n",
    "unique_dbscan_clusters = len(set(dbscan_labels)) - (1 if -1 in dbscan_labels else 0)\n",
    "noise_points = list(dbscan_labels).count(-1)"
   ]
  },
  {
   "cell_type": "code",
   "execution_count": null,
   "id": "8c1ce651-22b0-4324-92c2-02ff6b31a9b5",
   "metadata": {},
   "outputs": [],
   "source": [
    "print(f\"K-Means formed {unique_kmeans_clusters} clusters.\")\n",
    "print(f\"DBSCAN formed {unique_dbscan_clusters} clusters and detected {noise_points} noise points.\")"
   ]
  },
  {
   "cell_type": "code",
   "execution_count": null,
   "id": "a225c211-98c8-4f27-ae39-8ffa52695e2b",
   "metadata": {},
   "outputs": [],
   "source": [
    "# Reduce dimensions for visualization\n",
    "pca = PCA(n_components=2)\n",
    "data_pca = pca.fit_transform(data_scaled)"
   ]
  },
  {
   "cell_type": "code",
   "execution_count": null,
   "id": "4189134f-bd9b-4269-b5bf-b7a4d2db732d",
   "metadata": {},
   "outputs": [],
   "source": [
    "# Visualizing K-Means Clusters\n",
    "plt.figure(figsize=(12, 5))\n",
    "plt.subplot(1, 2, 1)\n",
    "sns.scatterplot(x=data_pca[:, 0], y=data_pca[:, 1], hue=kmeans_labels, palette='viridis', legend='full')\n",
    "plt.title('K-Means Clustering')"
   ]
  },
  {
   "cell_type": "code",
   "execution_count": null,
   "id": "642ec3e8-d5c9-4a9a-b2e2-a9312765ee63",
   "metadata": {},
   "outputs": [],
   "source": [
    "# Visualizing DBSCAN Clusters\n",
    "plt.subplot(1, 2, 2)\n",
    "sns.scatterplot(x=data_pca[:, 0], y=data_pca[:, 1], hue=dbscan_labels, palette='Set1', legend='full')\n",
    "plt.title('DBSCAN Clustering')\n",
    "plt.show()"
   ]
  },
  {
   "cell_type": "code",
   "execution_count": null,
   "id": "ea8548c8-71a3-4dcf-b884-9f420757ddf6",
   "metadata": {},
   "outputs": [],
   "source": []
  }
 ],
 "metadata": {
  "kernelspec": {
   "display_name": "Python 3 (ipykernel)",
   "language": "python",
   "name": "python3"
  },
  "language_info": {
   "codemirror_mode": {
    "name": "ipython",
    "version": 3
   },
   "file_extension": ".py",
   "mimetype": "text/x-python",
   "name": "python",
   "nbconvert_exporter": "python",
   "pygments_lexer": "ipython3",
   "version": "3.12.7"
  }
 },
 "nbformat": 4,
 "nbformat_minor": 5
}
